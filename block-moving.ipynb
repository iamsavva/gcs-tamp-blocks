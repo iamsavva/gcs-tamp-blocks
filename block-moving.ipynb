{
 "cells": [
  {
   "cell_type": "code",
   "execution_count": 1,
   "id": "36727129",
   "metadata": {},
   "outputs": [],
   "source": [
    "import numpy as np"
   ]
  },
  {
   "cell_type": "code",
   "execution_count": 10,
   "id": "15db7edf",
   "metadata": {},
   "outputs": [],
   "source": [
    "np.vstack((np.eye(3), np.eye(3)))\n",
    "from pydrake.geometry.optimization import ConvexSet, GraphOfConvexSets, HPolyhedron, Point"
   ]
  },
  {
   "cell_type": "code",
   "execution_count": 5,
   "id": "3c0fe47a",
   "metadata": {},
   "outputs": [],
   "source": [
    "state_dim = 3\n",
    "lb= np.zeros(state_dim)\n",
    "ub = np.ones(state_dim)\n",
    "\n",
    "A = np.vstack( (np.eye(state_dim), -np.eye(state_dim))) \n",
    "b = np.hstack((lb, ub))\n",
    "M0 = HPolyhedron(A, b)"
   ]
  },
  {
   "cell_type": "code",
   "execution_count": 6,
   "id": "3ae677fe",
   "metadata": {},
   "outputs": [
    {
     "data": {
      "text/plain": [
       "<pydrake.geometry.optimization.HPolyhedron at 0x7fca781ad130>"
      ]
     },
     "execution_count": 6,
     "metadata": {},
     "output_type": "execute_result"
    }
   ],
   "source": [
    "M0"
   ]
  },
  {
   "cell_type": "code",
   "execution_count": 11,
   "id": "e8e23b56",
   "metadata": {},
   "outputs": [],
   "source": [
    "k = 2\n",
    "block_dim = 2\n",
    "state_dim = 6\n",
    "lb= np.zeros(state_dim)\n",
    "ub = np.ones(state_dim)\n",
    "\n",
    "\n",
    "eq = np.zeros( (block_dim, state_dim) )\n",
    "eq[:, 0:block_dim] = np.eye(block_dim) \n",
    "eq[:, k*block_dim:(k+1)*block_dim] = -np.eye(block_dim)\n",
    "A = np.vstack( (-np.eye(state_dim), np.eye(state_dim), eq, -eq)) \n",
    "b = np.hstack((-lb, ub, np.zeros(block_dim), np.zeros(block_dim)))\n",
    "M0 = HPolyhedron(A, b)\n",
    "\n",
    "p = Point(np.zeros(state_dim))"
   ]
  },
  {
   "cell_type": "code",
   "execution_count": 14,
   "id": "63be2ba7",
   "metadata": {},
   "outputs": [
    {
     "ename": "AttributeError",
     "evalue": "'pydrake.geometry.optimization.Point' object has no attribute 'ContainedIn'",
     "output_type": "error",
     "traceback": [
      "\u001b[0;31m---------------------------------------------------------------------------\u001b[0m",
      "\u001b[0;31mAttributeError\u001b[0m                            Traceback (most recent call last)",
      "Cell \u001b[0;32mIn [14], line 1\u001b[0m\n\u001b[0;32m----> 1\u001b[0m \u001b[43mp\u001b[49m\u001b[38;5;241;43m.\u001b[39;49m\u001b[43mContainedIn\u001b[49m(M0)\n",
      "\u001b[0;31mAttributeError\u001b[0m: 'pydrake.geometry.optimization.Point' object has no attribute 'ContainedIn'"
     ]
    }
   ],
   "source": [
    "p.ContainedIn(M0)"
   ]
  },
  {
   "cell_type": "code",
   "execution_count": 21,
   "id": "e97cfeba",
   "metadata": {},
   "outputs": [
    {
     "data": {
      "text/plain": [
       "True"
      ]
     },
     "execution_count": 21,
     "metadata": {},
     "output_type": "execute_result"
    }
   ],
   "source": [
    "M0.PointInSet(p.x())"
   ]
  },
  {
   "cell_type": "code",
   "execution_count": 23,
   "id": "86bb1d7a",
   "metadata": {},
   "outputs": [
    {
     "data": {
      "text/plain": [
       "array([[1., 0., 0.],\n",
       "       [1., 0., 0.],\n",
       "       [1., 0., 0.]])"
      ]
     },
     "execution_count": 23,
     "metadata": {},
     "output_type": "execute_result"
    }
   ],
   "source": [
    "mat = np.zeros((3,3))\n",
    "mat[:, 0] = np.ones(3)\n",
    "mat"
   ]
  },
  {
   "cell_type": "code",
   "execution_count": null,
   "id": "734f7d67",
   "metadata": {},
   "outputs": [],
   "source": []
  }
 ],
 "metadata": {
  "kernelspec": {
   "display_name": "env",
   "language": "python",
   "name": "env"
  },
  "language_info": {
   "codemirror_mode": {
    "name": "ipython",
    "version": 3
   },
   "file_extension": ".py",
   "mimetype": "text/x-python",
   "name": "python",
   "nbconvert_exporter": "python",
   "pygments_lexer": "ipython3",
   "version": "3.10.6"
  }
 },
 "nbformat": 4,
 "nbformat_minor": 5
}
