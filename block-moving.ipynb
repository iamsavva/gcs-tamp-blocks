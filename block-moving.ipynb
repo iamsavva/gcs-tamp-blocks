{
 "cells": [
  {
   "cell_type": "code",
   "execution_count": 1,
   "id": "36727129",
   "metadata": {},
   "outputs": [],
   "source": [
    "import numpy as np\n",
    "from gcs import GCSforBlocks, make_some_simple_tests\n",
    "\n",
    "\n",
    "from pydrake.geometry.optimization import Point"
   ]
  },
  {
   "cell_type": "code",
   "execution_count": 3,
   "id": "fdd34bb0",
   "metadata": {},
   "outputs": [
    {
     "name": "stderr",
     "output_type": "stream",
     "text": [
      "Adding layers: 100%|███████████████████████████| 10/10 [00:00<00:00, 236.63it/s]\n"
     ]
    },
    {
     "name": "stdout",
     "output_type": "stream",
     "text": [
      "\u001b[34mSolving...\n",
      "\u001b[32mOptimal cost is 29.0\n",
      "\u001b[34mStart at [1.]\n",
      "\u001b[34mMove to [7.] ; Grasp   block 3\n",
      "\u001b[34mMove to [1.] ; Ungrasp block 3\n",
      "\u001b[34mMove to [3.] ; Grasp   block 1\n",
      "\u001b[34mMove to [5.] ; Ungrasp block 1\n",
      "\u001b[34mMove to [5.] ; Grasp   block 2\n",
      "\u001b[34mMove to [3.] ; Ungrasp block 2\n",
      "\u001b[34mMove to [7.] ; Finish\n"
     ]
    }
   ],
   "source": [
    "block_dim = 1\n",
    "num_blocks = 3\n",
    "horizon = 10\n",
    "max_rounded_paths = 30\n",
    "display_graph = False\n",
    "\n",
    "gcs = GCSforBlocks(block_dim, num_blocks, horizon)\n",
    "\n",
    "width = 1\n",
    "ub = width * 2 * (num_blocks + 1)\n",
    "gcs.set_block_width(width)\n",
    "gcs.set_ub(ub)\n",
    "\n",
    "initial_state = []\n",
    "for i in range(gcs.num_modes):\n",
    "    block_state = [0] * gcs.block_dim\n",
    "    block_state[0] = width * (2 * i + 1)\n",
    "    initial_state += block_state\n",
    "initial_point = Point(np.array(initial_state))\n",
    "final_state = []\n",
    "for i in range(gcs.num_modes):\n",
    "    block_state = [0] * gcs.block_dim\n",
    "    block_state[-1] = ub - width * (2 * i + 1)\n",
    "    final_state += block_state\n",
    "final_point = Point(np.array(final_state))\n",
    "gcs.build_the_graph(initial_point, 0, final_point, 0)\n",
    "gcs.solve(max_rounded_paths=max_rounded_paths)\n",
    "gcs.verbose_solution_description()\n",
    "if display_graph:\n",
    "    gcs.display_graph()"
   ]
  },
  {
   "cell_type": "code",
   "execution_count": 14,
   "id": "c221c626",
   "metadata": {},
   "outputs": [
    {
     "data": {
      "text/plain": [
       "0.0035957529908046126"
      ]
     },
     "execution_count": 14,
     "metadata": {},
     "output_type": "execute_result"
    }
   ],
   "source": [
    "gcs.solution.get_solver_details().optimizer_time"
   ]
  },
  {
   "cell_type": "code",
   "execution_count": null,
   "id": "18648cf4",
   "metadata": {},
   "outputs": [],
   "source": []
  }
 ],
 "metadata": {
  "kernelspec": {
   "display_name": "env",
   "language": "python",
   "name": "env"
  },
  "language_info": {
   "codemirror_mode": {
    "name": "ipython",
    "version": 3
   },
   "file_extension": ".py",
   "mimetype": "text/x-python",
   "name": "python",
   "nbconvert_exporter": "python",
   "pygments_lexer": "ipython3",
   "version": "3.10.6"
  }
 },
 "nbformat": 4,
 "nbformat_minor": 5
}
